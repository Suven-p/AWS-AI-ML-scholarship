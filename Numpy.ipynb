{
 "cells": [
  {
   "cell_type": "code",
   "execution_count": 1,
   "id": "6ae0e4ad",
   "metadata": {},
   "outputs": [
    {
     "name": "stdout",
     "output_type": "stream",
     "text": [
      "9.102853536605835\n",
      "0.10512185096740723\n"
     ]
    }
   ],
   "source": [
    "# Why use NumPy?\n",
    "import time\n",
    "import numpy as np\n",
    "x = np.random.random(100_000_000)\n",
    "\n",
    "# Case 1\n",
    "start = time.time()\n",
    "sum(x) / len(x)\n",
    "print(time.time() - start)\n",
    "\n",
    "# Case 2\n",
    "start = time.time()\n",
    "np.mean(x)\n",
    "print(time.time() - start)"
   ]
  },
  {
   "cell_type": "code",
   "execution_count": 11,
   "id": "c1d9a859",
   "metadata": {},
   "outputs": [
    {
     "name": "stdout",
     "output_type": "stream",
     "text": [
      "[1 2 3 4 5]\n",
      "1\n",
      "<class 'numpy.ndarray'>\n",
      "int64\n",
      "(5,)\n"
     ]
    }
   ],
   "source": [
    "x = np.array([1, 2, 3, 4, 5])\n",
    "print(x)\n",
    "print(x.ndim)\n",
    "print(type(x))\n",
    "print(x.dtype)\n",
    "print(x.shape)"
   ]
  },
  {
   "cell_type": "code",
   "execution_count": 12,
   "id": "a7972975",
   "metadata": {},
   "outputs": [
    {
     "name": "stdout",
     "output_type": "stream",
     "text": [
      "[[1 2 3]\n",
      " [4 5 6]]\n",
      "1\n",
      "<class 'numpy.ndarray'>\n",
      "int64\n",
      "(2, 3)\n",
      "6\n"
     ]
    }
   ],
   "source": [
    "y = np.array([[1, 2, 3], [4, 5, 6]])\n",
    "print(y)\n",
    "print(x.ndim)\n",
    "print(type(y))\n",
    "print(y.dtype)\n",
    "print(y.shape)\n",
    "print(y.size)"
   ]
  },
  {
   "cell_type": "code",
   "execution_count": 10,
   "id": "6359bf15",
   "metadata": {},
   "outputs": [
    {
     "name": "stdout",
     "output_type": "stream",
     "text": [
      "[ 1  5 54]\n",
      "int32\n"
     ]
    }
   ],
   "source": [
    "z = np.array([1, 5., '54'], dtype=np.int32)\n",
    "print(z)\n",
    "print(z.dtype)"
   ]
  },
  {
   "cell_type": "code",
   "execution_count": 20,
   "id": "1b8b62bd",
   "metadata": {},
   "outputs": [
    {
     "name": "stdout",
     "output_type": "stream",
     "text": [
      "[[0. 0. 0.]\n",
      " [0. 0. 0.]]\n",
      "[[1 1]\n",
      " [1 1]\n",
      " [1 1]]\n",
      "[[7 7 7 7 7]\n",
      " [7 7 7 7 7]\n",
      " [7 7 7 7 7]\n",
      " [7 7 7 7 7]]\n",
      "[[1. 0. 0. 0.]\n",
      " [0. 1. 0. 0.]\n",
      " [0. 0. 1. 0.]\n",
      " [0. 0. 0. 1.]]\n",
      "[[10  0  0  0]\n",
      " [ 0 20  0  0]\n",
      " [ 0  0 30  0]\n",
      " [ 0  0  0 40]]\n",
      "[0 1 2]\n",
      "[3 4 5]\n",
      "[3.   3.33 3.66 3.99 4.32 4.65 4.98 5.31 5.64 5.97]\n"
     ]
    }
   ],
   "source": [
    "print(np.zeros((2, 3), dtype=np.float64))\n",
    "print(np.ones((3, 2), dtype=np.int8))\n",
    "print(np.full((4,5), 7))\n",
    "print(np.eye(4))\n",
    "print(np.diag((10, 20, 30, 40)))\n",
    "print(np.arange(3))\n",
    "print(np.arange(3, 6))\n",
    "print(np.arange(3, 6, 0.33))"
   ]
  },
  {
   "cell_type": "code",
   "execution_count": 28,
   "id": "d040c07b",
   "metadata": {},
   "outputs": [
    {
     "name": "stdout",
     "output_type": "stream",
     "text": [
      "[0.         0.55555556 1.11111111 1.66666667 2.22222222 2.77777778\n",
      " 3.33333333 3.88888889 4.44444444 5.        ]\n",
      "[0.  0.5 1.  1.5 2.  2.5 3.  3.5 4.  4.5]\n",
      "[[0 1 2 3 4]\n",
      " [5 6 7 8 9]]\n"
     ]
    },
    {
     "data": {
      "text/plain": [
       "array([[0. , 0.5],\n",
       "       [1. , 1.5],\n",
       "       [2. , 2.5],\n",
       "       [3. , 3.5],\n",
       "       [4. , 4.5]])"
      ]
     },
     "execution_count": 28,
     "metadata": {},
     "output_type": "execute_result"
    }
   ],
   "source": [
    "print(np.linspace(0, 5, 10))\n",
    "print(np.linspace(0, 5, 10, endpoint=False))\n",
    "print(np.arange(10).reshape((2,5)))\n",
    "np.linspace(0, 5, 10, endpoint=False).reshape((5, 2))"
   ]
  },
  {
   "cell_type": "code",
   "execution_count": 35,
   "id": "edf422ac",
   "metadata": {},
   "outputs": [
    {
     "name": "stdout",
     "output_type": "stream",
     "text": [
      "[[0.99099257 0.42950191 0.08925327 0.01177932 0.72194063]\n",
      " [0.63243787 0.99780859 0.60486009 0.98524841 0.35697773]\n",
      " [0.76137643 0.32282664 0.53770153 0.81278273 0.81534545]]\n",
      "[[176  70]\n",
      " [164 135]\n",
      " [ 25  76]]\n",
      "-0.003206499714861486\n",
      "1.028349482112626\n",
      "2.451633120246915\n",
      "-2.0397762680170195\n"
     ]
    }
   ],
   "source": [
    "print(np.random.random((3, 5)))\n",
    "print(np.random.randint(2, 178, (3, 2)))\n",
    "x = np.random.normal(0, 1, size=(10, 10))\n",
    "print(x.mean())\n",
    "print(x.std())\n",
    "print(x.max())\n",
    "print(x.min())"
   ]
  },
  {
   "cell_type": "code",
   "execution_count": null,
   "id": "e132d460",
   "metadata": {},
   "outputs": [],
   "source": []
  }
 ],
 "metadata": {
  "kernelspec": {
   "display_name": "Python 3 (ipykernel)",
   "language": "python",
   "name": "python3"
  },
  "language_info": {
   "codemirror_mode": {
    "name": "ipython",
    "version": 3
   },
   "file_extension": ".py",
   "mimetype": "text/x-python",
   "name": "python",
   "nbconvert_exporter": "python",
   "pygments_lexer": "ipython3",
   "version": "3.10.8"
  }
 },
 "nbformat": 4,
 "nbformat_minor": 5
}
