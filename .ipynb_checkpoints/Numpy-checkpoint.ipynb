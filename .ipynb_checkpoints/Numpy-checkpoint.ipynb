{
 "cells": [
  {
   "cell_type": "code",
   "execution_count": 1,
   "id": "6ae0e4ad",
   "metadata": {},
   "outputs": [
    {
     "name": "stdout",
     "output_type": "stream",
     "text": [
      "9.102853536605835\n",
      "0.10512185096740723\n"
     ]
    }
   ],
   "source": [
    "# Why use NumPy?\n",
    "import time\n",
    "import numpy as np\n",
    "x = np.random.random(100_000_000)\n",
    "\n",
    "# Case 1\n",
    "start = time.time()\n",
    "sum(x) / len(x)\n",
    "print(time.time() - start)\n",
    "\n",
    "# Case 2\n",
    "start = time.time()\n",
    "np.mean(x)\n",
    "print(time.time() - start)"
   ]
  },
  {
   "cell_type": "code",
   "execution_count": 4,
   "id": "c1d9a859",
   "metadata": {},
   "outputs": [
    {
     "name": "stdout",
     "output_type": "stream",
     "text": [
      "[1. 2. 3. 4. 5.]\n",
      "<class 'numpy.ndarray'>\n",
      "float64\n"
     ]
    }
   ],
   "source": [
    "x = np.array([1, 2, 3, 4, 5])\n",
    "print(x)\n",
    "print(type(x))\n",
    "print(x.dtype)\n",
    "print(x.shape)"
   ]
  },
  {
   "cell_type": "code",
   "execution_count": null,
   "id": "3e66d2f0",
   "metadata": {},
   "outputs": [],
   "source": [
    "y = np.array([[1, 2, 3], [4, 5, 6]])\n",
    "print(y)\n",
    "print(type(y))\n",
    "print(y.dtype)\n",
    "print(y.shape)"
   ]
  }
 ],
 "metadata": {
  "kernelspec": {
   "display_name": "Python 3 (ipykernel)",
   "language": "python",
   "name": "python3"
  },
  "language_info": {
   "codemirror_mode": {
    "name": "ipython",
    "version": 3
   },
   "file_extension": ".py",
   "mimetype": "text/x-python",
   "name": "python",
   "nbconvert_exporter": "python",
   "pygments_lexer": "ipython3",
   "version": "3.10.8"
  }
 },
 "nbformat": 4,
 "nbformat_minor": 5
}
